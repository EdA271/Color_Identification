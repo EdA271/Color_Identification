{
 "cells": [
  {
   "cell_type": "code",
   "execution_count": 5,
   "id": "2fd6899c",
   "metadata": {},
   "outputs": [],
   "source": [
    "import numpy as np\n",
    "import csv\n",
    "from numpy.linalg import norm\n",
    "from PIL import Image"
   ]
  },
  {
   "cell_type": "code",
   "execution_count": 6,
   "id": "8a59e7c3",
   "metadata": {},
   "outputs": [],
   "source": [
    "def cleanNames(nameString):\n",
    "    if '(' in nameString:\n",
    "        nameString = nameString[0:nameString.index('(')-1]\n",
    "    return nameString\n",
    "\n",
    "csvPath = \"colors.csv\"\n",
    "with open(csvPath, 'r') as csvFile:\n",
    "    data = list(csv.reader(csvFile))\n",
    "header = data[0]\n",
    "data = data[1:]\n",
    "for elem in data:\n",
    "    elem[0] = cleanNames(elem[0])\n",
    "data = np.array(data)\n",
    "labels = data[:,0]\n",
    "data = data[:,1:4].astype(float)\n",
    "colorDict = {}\n",
    "i = 1\n",
    "for color in labels:\n",
    "    if color not in colorDict:\n",
    "        colorDict[color] = i\n",
    "        i += 1\n",
    "numLabels = np.array([colorDict[color] for color in labels])"
   ]
  },
  {
   "cell_type": "markdown",
   "id": "05060347",
   "metadata": {},
   "source": [
    "A total of 850 distinct colors."
   ]
  },
  {
   "cell_type": "code",
   "execution_count": 7,
   "id": "abdb74f8",
   "metadata": {},
   "outputs": [],
   "source": [
    "def colorPredict(dataset, labeling, val):\n",
    "    def eucDis(vec1, vec2):\n",
    "        return norm(vec2 - vec1)\n",
    "    maxC = \"\"\n",
    "    maxV = np.Inf\n",
    "    for i,color in enumerate(dataset):\n",
    "        sim = eucDis(color, val)\n",
    "        if sim < maxV:\n",
    "            maxC = labeling[i]\n",
    "            maxV = sim\n",
    "    return maxC"
   ]
  },
  {
   "cell_type": "code",
   "execution_count": 8,
   "id": "fcf11de4",
   "metadata": {},
   "outputs": [
    {
     "name": "stdout",
     "output_type": "stream",
     "text": [
      "[226.  38.  53.] Rose madder\n"
     ]
    }
   ],
   "source": [
    "image = Image.open(\"test2.jpg\")\n",
    "if image.mode != 'RGB':\n",
    "    image = image.convert('RGB')\n",
    "imageArr = np.array(image)\n",
    "Rval = np.median(imageArr[:,:,0])\n",
    "Bval = np.median(imageArr[:,:,1])\n",
    "Gval = np.median(imageArr[:,:,2])\n",
    "avgRGBVal = np.array([Rval, Bval, Gval])\n",
    "print(colorPredict(data, labels, avgRGBVal))"
   ]
  }
 ],
 "metadata": {
  "kernelspec": {
   "display_name": "Python 3 (ipykernel)",
   "language": "python",
   "name": "python3"
  },
  "language_info": {
   "codemirror_mode": {
    "name": "ipython",
    "version": 3
   },
   "file_extension": ".py",
   "mimetype": "text/x-python",
   "name": "python",
   "nbconvert_exporter": "python",
   "pygments_lexer": "ipython3",
   "version": "3.9.7"
  }
 },
 "nbformat": 4,
 "nbformat_minor": 5
}
